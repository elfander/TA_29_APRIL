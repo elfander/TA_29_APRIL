{
 "cells": [
  {
   "cell_type": "code",
   "execution_count": 1,
   "metadata": {},
   "outputs": [
    {
     "name": "stderr",
     "output_type": "stream",
     "text": [
      "2024-05-01 14:20:31.763336: I tensorflow/core/platform/cpu_feature_guard.cc:182] This TensorFlow binary is optimized to use available CPU instructions in performance-critical operations.\n",
      "To enable the following instructions: SSE4.1 SSE4.2 AVX AVX2 FMA, in other operations, rebuild TensorFlow with the appropriate compiler flags.\n"
     ]
    }
   ],
   "source": [
    "import csv\n",
    "\n",
    "import numpy as np\n",
    "import tensorflow as tf\n",
    "from sklearn.model_selection import train_test_split\n",
    "\n",
    "RANDOM_SEED = 42"
   ]
  },
  {
   "cell_type": "markdown",
   "metadata": {},
   "source": [
    "# 各パス指定 // Specify each path"
   ]
  },
  {
   "cell_type": "code",
   "execution_count": 6,
   "metadata": {},
   "outputs": [],
   "source": [
    "dataset = 'model/keypoint_classifier/keypoint.csv'\n",
    "model_save_path = 'model/keypoint_classifier/keypoint_classifier.hdf5'"
   ]
  },
  {
   "cell_type": "markdown",
   "metadata": {},
   "source": [
    "# 分類数設定 // Classification number setting"
   ]
  },
  {
   "cell_type": "code",
   "execution_count": 7,
   "metadata": {},
   "outputs": [],
   "source": [
    "NUM_CLASSES = 26"
   ]
  },
  {
   "cell_type": "markdown",
   "metadata": {},
   "source": [
    "# 学習データ読み込み // Load learning data"
   ]
  },
  {
   "cell_type": "code",
   "execution_count": 8,
   "metadata": {},
   "outputs": [],
   "source": [
    "X_dataset = np.loadtxt(dataset, delimiter=',', dtype='float32', usecols=list(range(1, (21 * 2) + 1)))"
   ]
  },
  {
   "cell_type": "code",
   "execution_count": 9,
   "metadata": {},
   "outputs": [],
   "source": [
    "# delimeter = angka dalam data dipisahkan oleh koma\n",
    "# usecols = kolam mana yang harus dimuat,dalam hal ini dia merujuk dari 1 ke 42."
   ]
  },
  {
   "cell_type": "code",
   "execution_count": 10,
   "metadata": {},
   "outputs": [],
   "source": [
    "y_dataset = np.loadtxt(dataset, delimiter=',', dtype='int32', usecols=(0))"
   ]
  },
  {
   "cell_type": "code",
   "execution_count": 11,
   "metadata": {},
   "outputs": [],
   "source": [
    "X_train, X_test, y_train, y_test = train_test_split(X_dataset, y_dataset, train_size=0.80, random_state=RANDOM_SEED)"
   ]
  },
  {
   "cell_type": "markdown",
   "metadata": {},
   "source": [
    "# モデル構築 // model building"
   ]
  },
  {
   "cell_type": "code",
   "execution_count": 12,
   "metadata": {},
   "outputs": [
    {
     "name": "stderr",
     "output_type": "stream",
     "text": [
      "2024-05-01 14:30:58.856200: I tensorflow/core/common_runtime/process_util.cc:146] Creating new thread pool with default inter op setting: 2. Tune using inter_op_parallelism_threads for best performance.\n"
     ]
    }
   ],
   "source": [
    "model = tf.keras.models.Sequential([\n",
    "    tf.keras.layers.Input((21 * 2, )),\n",
    "    tf.keras.layers.Dropout(0.20),\n",
    "    tf.keras.layers.Dense(20, activation='relu'),\n",
    "    tf.keras.layers.Dropout(0.4),\n",
    "    tf.keras.layers.Dense(10, activation='relu'),\n",
    "    tf.keras.layers.Dense(NUM_CLASSES, activation='softmax') #output layer fungsi softmax\n",
    "])"
   ]
  },
  {
   "cell_type": "code",
   "execution_count": 13,
   "metadata": {},
   "outputs": [
    {
     "name": "stdout",
     "output_type": "stream",
     "text": [
      "Model: \"sequential\"\n",
      "_________________________________________________________________\n",
      " Layer (type)                Output Shape              Param #   \n",
      "=================================================================\n",
      " dropout (Dropout)           (None, 42)                0         \n",
      "                                                                 \n",
      " dense (Dense)               (None, 20)                860       \n",
      "                                                                 \n",
      " dropout_1 (Dropout)         (None, 20)                0         \n",
      "                                                                 \n",
      " dense_1 (Dense)             (None, 10)                210       \n",
      "                                                                 \n",
      " dense_2 (Dense)             (None, 26)                286       \n",
      "                                                                 \n",
      "=================================================================\n",
      "Total params: 1,356\n",
      "Trainable params: 1,356\n",
      "Non-trainable params: 0\n",
      "_________________________________________________________________\n"
     ]
    }
   ],
   "source": [
    "model.summary()  # tf.keras.utils.plot_model(model, show_shapes=True)"
   ]
  },
  {
   "cell_type": "code",
   "execution_count": 14,
   "metadata": {},
   "outputs": [],
   "source": [
    "# モデルチェックポイントのコールバック // Model checkpoint callback\n",
    "cp_callback = tf.keras.callbacks.ModelCheckpoint(\n",
    "    model_save_path, verbose=1, save_weights_only=False)\n",
    "# 早期打ち切り用コールバック\n",
    "es_callback = tf.keras.callbacks.EarlyStopping(patience=20, verbose=1)"
   ]
  },
  {
   "cell_type": "code",
   "execution_count": 15,
   "metadata": {},
   "outputs": [],
   "source": [
    "# モデルコンパイル // model compilation\n",
    "model.compile(\n",
    "    optimizer='adam',\n",
    "    loss='sparse_categorical_crossentropy',\n",
    "    metrics=['accuracy']\n",
    ")"
   ]
  },
  {
   "cell_type": "markdown",
   "metadata": {},
   "source": [
    "# モデル訓練 // model training"
   ]
  },
  {
   "cell_type": "code",
   "execution_count": 20,
   "metadata": {
    "scrolled": true
   },
   "outputs": [
    {
     "name": "stdout",
     "output_type": "stream",
     "text": [
      "Epoch 1/1000\n",
      "68/79 [========================>.....] - ETA: 0s - loss: 0.6684 - accuracy: 0.7494\n",
      "Epoch 1: saving model to model/keypoint_classifier/keypoint_classifier.hdf5\n",
      "79/79 [==============================] - 1s 8ms/step - loss: 0.6669 - accuracy: 0.7508 - val_loss: 0.2297 - val_accuracy: 0.9413\n",
      "Epoch 2/1000\n",
      "75/79 [===========================>..] - ETA: 0s - loss: 0.6858 - accuracy: 0.7470\n",
      "Epoch 2: saving model to model/keypoint_classifier/keypoint_classifier.hdf5\n",
      "79/79 [==============================] - 1s 7ms/step - loss: 0.6864 - accuracy: 0.7472 - val_loss: 0.2325 - val_accuracy: 0.9358\n",
      "Epoch 3/1000\n",
      "69/79 [=========================>....] - ETA: 0s - loss: 0.6702 - accuracy: 0.7494\n",
      "Epoch 3: saving model to model/keypoint_classifier/keypoint_classifier.hdf5\n",
      "79/79 [==============================] - 0s 6ms/step - loss: 0.6716 - accuracy: 0.7461 - val_loss: 0.2307 - val_accuracy: 0.9485\n",
      "Epoch 4/1000\n",
      "77/79 [============================>.] - ETA: 0s - loss: 0.6795 - accuracy: 0.7518\n",
      "Epoch 4: saving model to model/keypoint_classifier/keypoint_classifier.hdf5\n",
      "79/79 [==============================] - 1s 7ms/step - loss: 0.6787 - accuracy: 0.7516 - val_loss: 0.2307 - val_accuracy: 0.9394\n",
      "Epoch 5/1000\n",
      "77/79 [============================>.] - ETA: 0s - loss: 0.6855 - accuracy: 0.7516\n",
      "Epoch 5: saving model to model/keypoint_classifier/keypoint_classifier.hdf5\n",
      "79/79 [==============================] - 0s 6ms/step - loss: 0.6855 - accuracy: 0.7517 - val_loss: 0.2335 - val_accuracy: 0.9433\n",
      "Epoch 6/1000\n",
      "75/79 [===========================>..] - ETA: 0s - loss: 0.6696 - accuracy: 0.7471\n",
      "Epoch 6: saving model to model/keypoint_classifier/keypoint_classifier.hdf5\n",
      "79/79 [==============================] - 0s 6ms/step - loss: 0.6682 - accuracy: 0.7473 - val_loss: 0.2292 - val_accuracy: 0.9433\n",
      "Epoch 7/1000\n",
      "77/79 [============================>.] - ETA: 0s - loss: 0.6909 - accuracy: 0.7456\n",
      "Epoch 7: saving model to model/keypoint_classifier/keypoint_classifier.hdf5\n",
      "79/79 [==============================] - 0s 6ms/step - loss: 0.6918 - accuracy: 0.7454 - val_loss: 0.2345 - val_accuracy: 0.9461\n",
      "Epoch 8/1000\n",
      "74/79 [===========================>..] - ETA: 0s - loss: 0.6853 - accuracy: 0.7452\n",
      "Epoch 8: saving model to model/keypoint_classifier/keypoint_classifier.hdf5\n",
      "79/79 [==============================] - 1s 7ms/step - loss: 0.6842 - accuracy: 0.7468 - val_loss: 0.2248 - val_accuracy: 0.9647\n",
      "Epoch 9/1000\n",
      "76/79 [===========================>..] - ETA: 0s - loss: 0.6791 - accuracy: 0.7460\n",
      "Epoch 9: saving model to model/keypoint_classifier/keypoint_classifier.hdf5\n",
      "79/79 [==============================] - 0s 6ms/step - loss: 0.6795 - accuracy: 0.7464 - val_loss: 0.2307 - val_accuracy: 0.9429\n",
      "Epoch 10/1000\n",
      "77/79 [============================>.] - ETA: 0s - loss: 0.6763 - accuracy: 0.7487\n",
      "Epoch 10: saving model to model/keypoint_classifier/keypoint_classifier.hdf5\n",
      "79/79 [==============================] - 0s 6ms/step - loss: 0.6751 - accuracy: 0.7489 - val_loss: 0.2290 - val_accuracy: 0.9528\n",
      "Epoch 11/1000\n",
      "71/79 [=========================>....] - ETA: 0s - loss: 0.6651 - accuracy: 0.7572\n",
      "Epoch 11: saving model to model/keypoint_classifier/keypoint_classifier.hdf5\n",
      "79/79 [==============================] - 1s 7ms/step - loss: 0.6708 - accuracy: 0.7548 - val_loss: 0.2317 - val_accuracy: 0.9386\n",
      "Epoch 12/1000\n",
      "76/79 [===========================>..] - ETA: 0s - loss: 0.6743 - accuracy: 0.7531\n",
      "Epoch 12: saving model to model/keypoint_classifier/keypoint_classifier.hdf5\n",
      "79/79 [==============================] - 1s 7ms/step - loss: 0.6740 - accuracy: 0.7526 - val_loss: 0.2302 - val_accuracy: 0.9366\n",
      "Epoch 13/1000\n",
      "75/79 [===========================>..] - ETA: 0s - loss: 0.6790 - accuracy: 0.7524\n",
      "Epoch 13: saving model to model/keypoint_classifier/keypoint_classifier.hdf5\n",
      "79/79 [==============================] - 1s 8ms/step - loss: 0.6788 - accuracy: 0.7523 - val_loss: 0.2326 - val_accuracy: 0.9386\n",
      "Epoch 14/1000\n",
      "75/79 [===========================>..] - ETA: 0s - loss: 0.6777 - accuracy: 0.7467\n",
      "Epoch 14: saving model to model/keypoint_classifier/keypoint_classifier.hdf5\n",
      "79/79 [==============================] - 1s 7ms/step - loss: 0.6800 - accuracy: 0.7470 - val_loss: 0.2274 - val_accuracy: 0.9509\n",
      "Epoch 15/1000\n",
      "78/79 [============================>.] - ETA: 0s - loss: 0.6738 - accuracy: 0.7459\n",
      "Epoch 15: saving model to model/keypoint_classifier/keypoint_classifier.hdf5\n",
      "79/79 [==============================] - 1s 7ms/step - loss: 0.6739 - accuracy: 0.7460 - val_loss: 0.2300 - val_accuracy: 0.9374\n",
      "Epoch 16/1000\n",
      "73/79 [==========================>...] - ETA: 0s - loss: 0.6562 - accuracy: 0.7580\n",
      "Epoch 16: saving model to model/keypoint_classifier/keypoint_classifier.hdf5\n",
      "79/79 [==============================] - 1s 7ms/step - loss: 0.6588 - accuracy: 0.7563 - val_loss: 0.2317 - val_accuracy: 0.9350\n",
      "Epoch 17/1000\n",
      "76/79 [===========================>..] - ETA: 0s - loss: 0.6675 - accuracy: 0.7577\n",
      "Epoch 17: saving model to model/keypoint_classifier/keypoint_classifier.hdf5\n",
      "79/79 [==============================] - 1s 6ms/step - loss: 0.6661 - accuracy: 0.7584 - val_loss: 0.2250 - val_accuracy: 0.9326\n",
      "Epoch 18/1000\n",
      "73/79 [==========================>...] - ETA: 0s - loss: 0.6847 - accuracy: 0.7482\n",
      "Epoch 18: saving model to model/keypoint_classifier/keypoint_classifier.hdf5\n",
      "79/79 [==============================] - 1s 6ms/step - loss: 0.6847 - accuracy: 0.7473 - val_loss: 0.2295 - val_accuracy: 0.9358\n",
      "Epoch 19/1000\n",
      "72/79 [==========================>...] - ETA: 0s - loss: 0.6868 - accuracy: 0.7462\n",
      "Epoch 19: saving model to model/keypoint_classifier/keypoint_classifier.hdf5\n",
      "79/79 [==============================] - 1s 7ms/step - loss: 0.6867 - accuracy: 0.7476 - val_loss: 0.2287 - val_accuracy: 0.9528\n",
      "Epoch 20/1000\n",
      "77/79 [============================>.] - ETA: 0s - loss: 0.6688 - accuracy: 0.7513\n",
      "Epoch 20: saving model to model/keypoint_classifier/keypoint_classifier.hdf5\n",
      "79/79 [==============================] - 1s 7ms/step - loss: 0.6677 - accuracy: 0.7517 - val_loss: 0.2298 - val_accuracy: 0.9390\n",
      "Epoch 21/1000\n",
      "74/79 [===========================>..] - ETA: 0s - loss: 0.6719 - accuracy: 0.7552\n",
      "Epoch 21: saving model to model/keypoint_classifier/keypoint_classifier.hdf5\n",
      "79/79 [==============================] - 0s 6ms/step - loss: 0.6688 - accuracy: 0.7566 - val_loss: 0.2367 - val_accuracy: 0.9330\n",
      "Epoch 22/1000\n",
      "73/79 [==========================>...] - ETA: 0s - loss: 0.6581 - accuracy: 0.7619\n",
      "Epoch 22: saving model to model/keypoint_classifier/keypoint_classifier.hdf5\n",
      "79/79 [==============================] - 1s 6ms/step - loss: 0.6543 - accuracy: 0.7634 - val_loss: 0.2291 - val_accuracy: 0.9378\n",
      "Epoch 23/1000\n",
      "76/79 [===========================>..] - ETA: 0s - loss: 0.6670 - accuracy: 0.7574\n",
      "Epoch 23: saving model to model/keypoint_classifier/keypoint_classifier.hdf5\n",
      "79/79 [==============================] - 1s 7ms/step - loss: 0.6662 - accuracy: 0.7579 - val_loss: 0.2315 - val_accuracy: 0.9402\n",
      "Epoch 24/1000\n",
      "68/79 [========================>.....] - ETA: 0s - loss: 0.6601 - accuracy: 0.7579\n",
      "Epoch 24: saving model to model/keypoint_classifier/keypoint_classifier.hdf5\n",
      "79/79 [==============================] - 1s 7ms/step - loss: 0.6601 - accuracy: 0.7577 - val_loss: 0.2258 - val_accuracy: 0.9441\n",
      "Epoch 25/1000\n",
      "67/79 [========================>.....] - ETA: 0s - loss: 0.6748 - accuracy: 0.7497\n",
      "Epoch 25: saving model to model/keypoint_classifier/keypoint_classifier.hdf5\n",
      "79/79 [==============================] - 0s 5ms/step - loss: 0.6780 - accuracy: 0.7468 - val_loss: 0.2382 - val_accuracy: 0.9259\n",
      "Epoch 26/1000\n",
      "79/79 [==============================] - ETA: 0s - loss: 0.6692 - accuracy: 0.7545\n",
      "Epoch 26: saving model to model/keypoint_classifier/keypoint_classifier.hdf5\n",
      "79/79 [==============================] - 0s 6ms/step - loss: 0.6692 - accuracy: 0.7545 - val_loss: 0.2408 - val_accuracy: 0.9243\n",
      "Epoch 27/1000\n",
      "76/79 [===========================>..] - ETA: 0s - loss: 0.6641 - accuracy: 0.7557\n",
      "Epoch 27: saving model to model/keypoint_classifier/keypoint_classifier.hdf5\n",
      "79/79 [==============================] - 1s 7ms/step - loss: 0.6629 - accuracy: 0.7553 - val_loss: 0.2339 - val_accuracy: 0.9291\n",
      "Epoch 28/1000\n",
      "76/79 [===========================>..] - ETA: 0s - loss: 0.6728 - accuracy: 0.7502\n",
      "Epoch 28: saving model to model/keypoint_classifier/keypoint_classifier.hdf5\n",
      "79/79 [==============================] - 1s 7ms/step - loss: 0.6749 - accuracy: 0.7499 - val_loss: 0.2351 - val_accuracy: 0.9382\n",
      "Epoch 28: early stopping\n"
     ]
    },
    {
     "data": {
      "text/plain": [
       "<keras.callbacks.History at 0x7fa5e4749010>"
      ]
     },
     "execution_count": 20,
     "metadata": {},
     "output_type": "execute_result"
    }
   ],
   "source": [
    "model.fit(\n",
    "    X_train,\n",
    "    y_train,\n",
    "    epochs=1000,\n",
    "    batch_size=128,\n",
    "    validation_data=(X_test, y_test),\n",
    "    callbacks=[cp_callback, es_callback]\n",
    ")"
   ]
  },
  {
   "cell_type": "code",
   "execution_count": 21,
   "metadata": {},
   "outputs": [
    {
     "name": "stdout",
     "output_type": "stream",
     "text": [
      "20/20 [==============================] - 0s 5ms/step - loss: 0.2351 - accuracy: 0.9382\n"
     ]
    }
   ],
   "source": [
    "# モデル評価 // model evaluation\n",
    "val_loss, val_acc = model.evaluate(X_test, y_test, batch_size=128)"
   ]
  },
  {
   "cell_type": "code",
   "execution_count": 22,
   "metadata": {},
   "outputs": [],
   "source": [
    "# 保存したモデルのロード // Loading a saved model\n",
    "model = tf.keras.models.load_model(model_save_path)"
   ]
  },
  {
   "cell_type": "code",
   "execution_count": 23,
   "metadata": {},
   "outputs": [
    {
     "name": "stdout",
     "output_type": "stream",
     "text": [
      "1/1 [==============================] - 0s 73ms/step\n",
      "[4.1754448e-18 5.3927105e-14 1.6847806e-11 9.1863711e-08 7.0247715e-14\n",
      " 1.1875348e-14 3.9151265e-26 2.8668847e-09 3.9823403e-17 1.1750506e-03\n",
      " 6.4802854e-20 0.0000000e+00 7.3181483e-10 7.1042764e-01 9.8256385e-03\n",
      " 2.2236195e-10 8.6359128e-16 2.6658836e-06 1.1812164e-01 9.4535507e-02\n",
      " 1.0421816e-06 3.4587305e-07 4.4219164e-06 6.4833000e-02 5.1789053e-09\n",
      " 1.0729813e-03]\n",
      "13\n"
     ]
    }
   ],
   "source": [
    "# 推論テスト // Reasoning test\n",
    "predict_result = model.predict(np.array([X_test[0]]))\n",
    "print(np.squeeze(predict_result))\n",
    "print(np.argmax(np.squeeze(predict_result)))"
   ]
  },
  {
   "cell_type": "markdown",
   "metadata": {},
   "source": [
    "# 混同行列 // confusion matrix"
   ]
  },
  {
   "cell_type": "code",
   "execution_count": 24,
   "metadata": {},
   "outputs": [
    {
     "name": "stdout",
     "output_type": "stream",
     "text": [
      "79/79 [==============================] - 0s 5ms/step\n"
     ]
    },
    {
     "data": {
      "image/png": "[encoded data removed]",
      "text/plain": [
       "<Figure size 700x600 with 2 Axes>"
      ]
     },
     "metadata": {},
     "output_type": "display_data"
    },
    {
     "name": "stdout",
     "output_type": "stream",
     "text": [
      "Classification Report\n",
      "              precision    recall  f1-score   support\n",
      "\n",
      "           0       0.92      1.00      0.96       110\n",
      "           1       0.76      0.88      0.82        94\n",
      "           2       1.00      1.00      1.00       111\n",
      "           3       1.00      1.00      1.00        93\n",
      "           4       1.00      0.92      0.96       114\n",
      "           5       0.87      0.73      0.79        95\n",
      "           6       1.00      1.00      1.00       102\n",
      "           7       1.00      1.00      1.00        96\n",
      "           8       0.99      1.00      1.00       112\n",
      "           9       1.00      1.00      1.00        72\n",
      "          10       1.00      1.00      1.00       100\n",
      "          11       1.00      1.00      1.00       118\n",
      "          12       1.00      0.98      0.99       100\n",
      "          13       0.88      0.99      0.93        93\n",
      "          14       1.00      1.00      1.00        93\n",
      "          15       1.00      1.00      1.00       105\n",
      "          16       1.00      1.00      1.00        94\n",
      "          17       0.85      0.89      0.87       105\n",
      "          18       0.99      0.86      0.92       100\n",
      "          19       0.90      0.38      0.54        99\n",
      "          20       0.84      0.83      0.84        92\n",
      "          21       1.00      1.00      1.00       113\n",
      "          22       0.99      1.00      0.99        80\n",
      "          23       0.61      0.96      0.75        99\n",
      "          24       1.00      1.00      1.00        86\n",
      "          25       1.00      1.00      1.00        47\n",
      "\n",
      "    accuracy                           0.94      2523\n",
      "   macro avg       0.95      0.94      0.94      2523\n",
      "weighted avg       0.95      0.94      0.94      2523\n",
      "\n"
     ]
    }
   ],
   "source": [
    "import pandas as pd\n",
    "import seaborn as sns\n",
    "import matplotlib.pyplot as plt\n",
    "from sklearn.metrics import confusion_matrix, classification_report\n",
    "\n",
    "def print_confusion_matrix(y_true, y_pred, report=True):\n",
    "    labels = sorted(list(set(y_true)))\n",
    "    cmx_data = confusion_matrix(y_true, y_pred, labels=labels)\n",
    "    \n",
    "    df_cmx = pd.DataFrame(cmx_data, index=labels, columns=labels)\n",
    " \n",
    "    fig, ax = plt.subplots(figsize=(7, 6))\n",
    "    sns.heatmap(df_cmx, annot=True, fmt='g' ,square=False)\n",
    "    ax.set_ylim(len(set(y_true)), 0)\n",
    "    plt.show()\n",
    "    \n",
    "    if report:\n",
    "        print('Classification Report')\n",
    "        print(classification_report(y_test, y_pred))\n",
    "\n",
    "Y_pred = model.predict(X_test)\n",
    "y_pred = np.argmax(Y_pred, axis=1)\n",
    "\n",
    "print_confusion_matrix(y_test, y_pred)"
   ]
  },
  {
   "cell_type": "markdown",
   "metadata": {},
   "source": [
    "# Tensorflow-Lite用のモデルへ変換 // Convert to model for"
   ]
  },
  {
   "cell_type": "code",
   "execution_count": 25,
   "metadata": {},
   "outputs": [],
   "source": [
    "# 推論専用のモデルとして保存 // Save as a model for inference only\n",
    "model.save(model_save_path, include_optimizer=False)"
   ]
  },
  {
   "cell_type": "code",
   "execution_count": 26,
   "metadata": {},
   "outputs": [
    {
     "name": "stderr",
     "output_type": "stream",
     "text": [
      "2024-05-01 15:27:40.371565: I tensorflow/core/common_runtime/executor.cc:1197] [/device:CPU:0] (DEBUG INFO) Executor start aborting (this does not indicate an error and you can ignore this message): INVALID_ARGUMENT: You must feed a value for placeholder tensor 'input_1' with dtype float and shape [?,42]\n",
      "\t [[{{node input_1}}]]\n",
      "2024-05-01 15:27:40.425581: I tensorflow/core/common_runtime/executor.cc:1197] [/device:CPU:0] (DEBUG INFO) Executor start aborting (this does not indicate an error and you can ignore this message): INVALID_ARGUMENT: You must feed a value for placeholder tensor 'inputs' with dtype float and shape [?,42]\n",
      "\t [[{{node inputs}}]]\n",
      "2024-05-01 15:27:40.438350: I tensorflow/core/common_runtime/executor.cc:1197] [/device:CPU:0] (DEBUG INFO) Executor start aborting (this does not indicate an error and you can ignore this message): INVALID_ARGUMENT: You must feed a value for placeholder tensor 'input_1' with dtype float and shape [?,42]\n",
      "\t [[{{node input_1}}]]\n",
      "2024-05-01 15:27:40.461101: I tensorflow/core/common_runtime/executor.cc:1197] [/device:CPU:0] (DEBUG INFO) Executor start aborting (this does not indicate an error and you can ignore this message): INVALID_ARGUMENT: You must feed a value for placeholder tensor 'inputs' with dtype float and shape [?,42]\n",
      "\t [[{{node inputs}}]]\n",
      "2024-05-01 15:27:40.472274: I tensorflow/core/common_runtime/executor.cc:1197] [/device:CPU:0] (DEBUG INFO) Executor start aborting (this does not indicate an error and you can ignore this message): INVALID_ARGUMENT: You must feed a value for placeholder tensor 'inputs' with dtype float and shape [?,20]\n",
      "\t [[{{node inputs}}]]\n",
      "2024-05-01 15:27:40.495730: I tensorflow/core/common_runtime/executor.cc:1197] [/device:CPU:0] (DEBUG INFO) Executor start aborting (this does not indicate an error and you can ignore this message): INVALID_ARGUMENT: You must feed a value for placeholder tensor 'inputs' with dtype float and shape [?,42]\n",
      "\t [[{{node inputs}}]]\n",
      "2024-05-01 15:27:40.568668: I tensorflow/core/common_runtime/executor.cc:1197] [/device:CPU:0] (DEBUG INFO) Executor start aborting (this does not indicate an error and you can ignore this message): INVALID_ARGUMENT: You must feed a value for placeholder tensor 'inputs' with dtype float and shape [?,42]\n",
      "\t [[{{node inputs}}]]\n",
      "2024-05-01 15:27:40.628866: I tensorflow/core/common_runtime/executor.cc:1197] [/device:CPU:0] (DEBUG INFO) Executor start aborting (this does not indicate an error and you can ignore this message): INVALID_ARGUMENT: You must feed a value for placeholder tensor 'inputs' with dtype float and shape [?,42]\n",
      "\t [[{{node inputs}}]]\n",
      "2024-05-01 15:27:40.656433: I tensorflow/core/common_runtime/executor.cc:1197] [/device:CPU:0] (DEBUG INFO) Executor start aborting (this does not indicate an error and you can ignore this message): INVALID_ARGUMENT: You must feed a value for placeholder tensor 'inputs' with dtype float and shape [?,20]\n",
      "\t [[{{node inputs}}]]\n",
      "WARNING:absl:Found untraced functions such as _update_step_xla while saving (showing 1 of 1). These functions will not be directly callable after loading.\n"
     ]
    },
    {
     "name": "stdout",
     "output_type": "stream",
     "text": [
      "INFO:tensorflow:Assets written to: /tmp/tmpkonm0j4n/assets\n"
     ]
    },
    {
     "name": "stderr",
     "output_type": "stream",
     "text": [
      "INFO:tensorflow:Assets written to: /tmp/tmpkonm0j4n/assets\n",
      "2024-05-01 15:27:41.573803: W tensorflow/compiler/mlir/lite/python/tf_tfl_flatbuffer_helpers.cc:364] Ignored output_format.\n",
      "2024-05-01 15:27:41.573873: W tensorflow/compiler/mlir/lite/python/tf_tfl_flatbuffer_helpers.cc:367] Ignored drop_control_dependency.\n",
      "2024-05-01 15:27:41.582927: I tensorflow/cc/saved_model/reader.cc:45] Reading SavedModel from: /tmp/tmpkonm0j4n\n",
      "2024-05-01 15:27:41.586260: I tensorflow/cc/saved_model/reader.cc:89] Reading meta graph with tags { serve }\n",
      "2024-05-01 15:27:41.586301: I tensorflow/cc/saved_model/reader.cc:130] Reading SavedModel debug info (if present) from: /tmp/tmpkonm0j4n\n",
      "2024-05-01 15:27:41.596110: I tensorflow/core/common_runtime/process_util.cc:146] Creating new thread pool with default inter op setting: 2. Tune using inter_op_parallelism_threads for best performance.\n",
      "2024-05-01 15:27:41.605447: I tensorflow/compiler/mlir/mlir_graph_optimization_pass.cc:353] MLIR V1 optimization pass is not enabled\n",
      "2024-05-01 15:27:41.607787: I tensorflow/cc/saved_model/loader.cc:231] Restoring SavedModel bundle.\n",
      "2024-05-01 15:27:41.696980: I tensorflow/cc/saved_model/loader.cc:215] Running initialization op on SavedModel bundle at path: /tmp/tmpkonm0j4n\n",
      "2024-05-01 15:27:41.707324: I tensorflow/cc/saved_model/loader.cc:314] SavedModel load for tags { serve }; Status: success: OK. Took 124419 microseconds.\n",
      "2024-05-01 15:27:41.996499: I tensorflow/compiler/mlir/tensorflow/utils/dump_mlir_util.cc:269] disabling MLIR crash reproducer, set env var `MLIR_CRASH_REPRODUCER_DIRECTORY` to enable.\n"
     ]
    },
    {
     "data": {
      "text/plain": [
       "7512"
      ]
     },
     "execution_count": 26,
     "metadata": {},
     "output_type": "execute_result"
    }
   ],
   "source": [
    "# モデルを変換(量子化) // Transform the model (quantize)\n",
    "tflite_save_path = 'model/keypoint_classifier/keypoint_classifier.tflite'\n",
    "\n",
    "converter = tf.lite.TFLiteConverter.from_keras_model(model)\n",
    "converter.optimizations = [tf.lite.Optimize.DEFAULT]\n",
    "tflite_quantized_model = converter.convert()\n",
    "\n",
    "open(tflite_save_path, 'wb').write(tflite_quantized_model)"
   ]
  },
  {
   "cell_type": "markdown",
   "metadata": {},
   "source": [
    "# 推論テスト // Reasoning test"
   ]
  },
  {
   "cell_type": "code",
   "execution_count": 27,
   "metadata": {},
   "outputs": [
    {
     "name": "stderr",
     "output_type": "stream",
     "text": [
      "INFO: Created TensorFlow Lite XNNPACK delegate for CPU.\n"
     ]
    }
   ],
   "source": [
    "interpreter = tf.lite.Interpreter(model_path=tflite_save_path)\n",
    "interpreter.allocate_tensors()"
   ]
  },
  {
   "cell_type": "code",
   "execution_count": 28,
   "metadata": {},
   "outputs": [],
   "source": [
    "# 入出力テンソルを取得 // Get input/output tensor\n",
    "input_details = interpreter.get_input_details()\n",
    "output_details = interpreter.get_output_details()"
   ]
  },
  {
   "cell_type": "code",
   "execution_count": 29,
   "metadata": {},
   "outputs": [],
   "source": [
    "interpreter.set_tensor(input_details[0]['index'], np.array([X_test[0]]))"
   ]
  },
  {
   "cell_type": "code",
   "execution_count": 30,
   "metadata": {
    "scrolled": true
   },
   "outputs": [
    {
     "name": "stdout",
     "output_type": "stream",
     "text": [
      "CPU times: user 572 µs, sys: 627 µs, total: 1.2 ms\n",
      "Wall time: 1.36 ms\n"
     ]
    }
   ],
   "source": [
    "%%time\n",
    "# 推論実施 // Inference implementation\n",
    "interpreter.invoke()\n",
    "tflite_results = interpreter.get_tensor(output_details[0]['index'])"
   ]
  },
  {
   "cell_type": "code",
   "execution_count": 31,
   "metadata": {},
   "outputs": [
    {
     "name": "stdout",
     "output_type": "stream",
     "text": [
      "[4.17544271e-18 5.39272843e-14 1.68478651e-11 9.18637610e-08\n",
      " 7.02478169e-14 1.18753435e-14 3.91512468e-26 2.86689450e-09\n",
      " 3.98235353e-17 1.17505132e-03 6.48030676e-20 0.00000000e+00\n",
      " 7.31815941e-10 7.10427403e-01 9.82564501e-03 2.22362295e-10\n",
      " 8.63590959e-16 2.66588518e-06 1.18121721e-01 9.45355743e-02\n",
      " 1.04218111e-06 3.45873218e-07 4.42192368e-06 6.48330674e-02\n",
      " 5.17890353e-09 1.07298291e-03]\n",
      "13\n"
     ]
    }
   ],
   "source": [
    "print(np.squeeze(tflite_results))\n",
    "print(np.argmax(np.squeeze(tflite_results)))"
   ]
  },
  {
   "cell_type": "code",
   "execution_count": null,
   "metadata": {},
   "outputs": [],
   "source": []
  },
  {
   "cell_type": "code",
   "execution_count": null,
   "metadata": {},
   "outputs": [],
   "source": []
  }
 ],
 "metadata": {
  "kernelspec": {
   "display_name": "Python 3 (ipykernel)",
   "language": "python",
   "name": "python3"
  },
  "language_info": {
   "codemirror_mode": {
    "name": "ipython",
    "version": 3
   },
   "file_extension": ".py",
   "mimetype": "text/x-python",
   "name": "python",
   "nbconvert_exporter": "python",
   "pygments_lexer": "ipython3",
   "version": "3.11.5"
  }
 },
 "nbformat": 4,
 "nbformat_minor": 4
}
